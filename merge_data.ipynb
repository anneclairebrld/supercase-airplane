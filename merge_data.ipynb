{
 "cells": [
  {
   "cell_type": "code",
   "execution_count": 1,
   "metadata": {},
   "outputs": [],
   "source": [
    "import numpy as np\n",
    "import pandas as pd"
   ]
  },
  {
   "cell_type": "code",
   "execution_count": 2,
   "metadata": {},
   "outputs": [],
   "source": [
    "skytracks_data = pd.read_csv('./data/data.csv')\n",
    "seatguru_data = pd.read_csv('./data/seatguru_data.csv')"
   ]
  },
  {
   "cell_type": "code",
   "execution_count": 3,
   "metadata": {},
   "outputs": [
    {
     "data": {
      "text/html": [
       "<div>\n",
       "<style scoped>\n",
       "    .dataframe tbody tr th:only-of-type {\n",
       "        vertical-align: middle;\n",
       "    }\n",
       "\n",
       "    .dataframe tbody tr th {\n",
       "        vertical-align: top;\n",
       "    }\n",
       "\n",
       "    .dataframe thead th {\n",
       "        text-align: right;\n",
       "    }\n",
       "</style>\n",
       "<table border=\"1\" class=\"dataframe\">\n",
       "  <thead>\n",
       "    <tr style=\"text-align: right;\">\n",
       "      <th></th>\n",
       "      <th>date</th>\n",
       "      <th>verified</th>\n",
       "      <th>review_title</th>\n",
       "      <th>review_comment</th>\n",
       "      <th>type_of_traveler</th>\n",
       "      <th>start_point</th>\n",
       "      <th>end_point</th>\n",
       "      <th>date_of_flight</th>\n",
       "      <th>overall_rating</th>\n",
       "      <th>recommended</th>\n",
       "      <th>seat_comfort</th>\n",
       "      <th>cabin_staff_service</th>\n",
       "      <th>food_beverages</th>\n",
       "      <th>ground_service</th>\n",
       "      <th>value_for_money</th>\n",
       "      <th>flight_company</th>\n",
       "      <th>airplane_model</th>\n",
       "    </tr>\n",
       "  </thead>\n",
       "  <tbody>\n",
       "    <tr>\n",
       "      <th>0</th>\n",
       "      <td>2020-01-25</td>\n",
       "      <td>True</td>\n",
       "      <td>\"will never fly American again\"</td>\n",
       "      <td>Greensboro to Las Vegas via Charlotte. I wil...</td>\n",
       "      <td>Business</td>\n",
       "      <td>Greensboro</td>\n",
       "      <td>Las Vegas via Charlotte</td>\n",
       "      <td>January 2020</td>\n",
       "      <td>1.0</td>\n",
       "      <td>no</td>\n",
       "      <td>1.0</td>\n",
       "      <td>1.0</td>\n",
       "      <td>1.0</td>\n",
       "      <td>1.0</td>\n",
       "      <td>1.0</td>\n",
       "      <td>american-airlines</td>\n",
       "      <td>NaN</td>\n",
       "    </tr>\n",
       "    <tr>\n",
       "      <th>1</th>\n",
       "      <td>2020-01-25</td>\n",
       "      <td>False</td>\n",
       "      <td>\"just comfortable enough\"</td>\n",
       "      <td>Not Verified |  Tokyo to Dallas. I was dreadin...</td>\n",
       "      <td>Solo Leisure</td>\n",
       "      <td>Tokyo</td>\n",
       "      <td>Dallas</td>\n",
       "      <td>January 2020</td>\n",
       "      <td>8.0</td>\n",
       "      <td>yes</td>\n",
       "      <td>3.0</td>\n",
       "      <td>4.0</td>\n",
       "      <td>4.0</td>\n",
       "      <td>4.0</td>\n",
       "      <td>4.0</td>\n",
       "      <td>american-airlines</td>\n",
       "      <td>Boeing 777-200</td>\n",
       "    </tr>\n",
       "    <tr>\n",
       "      <th>2</th>\n",
       "      <td>2020-01-24</td>\n",
       "      <td>True</td>\n",
       "      <td>\"never fly with them again\"</td>\n",
       "      <td>Providence to Tucson via Chicago. American A...</td>\n",
       "      <td>Solo Leisure</td>\n",
       "      <td>Providence</td>\n",
       "      <td>Tucson via Chicago</td>\n",
       "      <td>January 2020</td>\n",
       "      <td>1.0</td>\n",
       "      <td>no</td>\n",
       "      <td>1.0</td>\n",
       "      <td>1.0</td>\n",
       "      <td>1.0</td>\n",
       "      <td>1.0</td>\n",
       "      <td>1.0</td>\n",
       "      <td>american-airlines</td>\n",
       "      <td>NaN</td>\n",
       "    </tr>\n",
       "    <tr>\n",
       "      <th>3</th>\n",
       "      <td>2020-01-24</td>\n",
       "      <td>False</td>\n",
       "      <td>\"Horrible customer service\"</td>\n",
       "      <td>Not Verified |  Philadelphia to Boston. Horrib...</td>\n",
       "      <td>Business</td>\n",
       "      <td>Philadelphia</td>\n",
       "      <td>Boston</td>\n",
       "      <td>December 2019</td>\n",
       "      <td>1.0</td>\n",
       "      <td>no</td>\n",
       "      <td>1.0</td>\n",
       "      <td>1.0</td>\n",
       "      <td>1.0</td>\n",
       "      <td>1.0</td>\n",
       "      <td>1.0</td>\n",
       "      <td>american-airlines</td>\n",
       "      <td>NaN</td>\n",
       "    </tr>\n",
       "    <tr>\n",
       "      <th>4</th>\n",
       "      <td>2020-01-23</td>\n",
       "      <td>True</td>\n",
       "      <td>\"missed my connecting flight\"</td>\n",
       "      <td>Houston to Dallas. I had departed from Ameri...</td>\n",
       "      <td>Solo Leisure</td>\n",
       "      <td>Houston</td>\n",
       "      <td>Dallas</td>\n",
       "      <td>January 2020</td>\n",
       "      <td>4.0</td>\n",
       "      <td>no</td>\n",
       "      <td>2.0</td>\n",
       "      <td>3.0</td>\n",
       "      <td>3.0</td>\n",
       "      <td>1.0</td>\n",
       "      <td>1.0</td>\n",
       "      <td>american-airlines</td>\n",
       "      <td>NaN</td>\n",
       "    </tr>\n",
       "  </tbody>\n",
       "</table>\n",
       "</div>"
      ],
      "text/plain": [
       "         date  verified                     review_title  \\\n",
       "0  2020-01-25      True  \"will never fly American again\"   \n",
       "1  2020-01-25     False        \"just comfortable enough\"   \n",
       "2  2020-01-24      True      \"never fly with them again\"   \n",
       "3  2020-01-24     False      \"Horrible customer service\"   \n",
       "4  2020-01-23      True    \"missed my connecting flight\"   \n",
       "\n",
       "                                      review_comment type_of_traveler  \\\n",
       "0    Greensboro to Las Vegas via Charlotte. I wil...         Business   \n",
       "1  Not Verified |  Tokyo to Dallas. I was dreadin...     Solo Leisure   \n",
       "2    Providence to Tucson via Chicago. American A...     Solo Leisure   \n",
       "3  Not Verified |  Philadelphia to Boston. Horrib...         Business   \n",
       "4    Houston to Dallas. I had departed from Ameri...     Solo Leisure   \n",
       "\n",
       "    start_point                end_point date_of_flight  overall_rating  \\\n",
       "0    Greensboro  Las Vegas via Charlotte   January 2020             1.0   \n",
       "1         Tokyo                   Dallas   January 2020             8.0   \n",
       "2    Providence       Tucson via Chicago   January 2020             1.0   \n",
       "3  Philadelphia                   Boston  December 2019             1.0   \n",
       "4       Houston                   Dallas   January 2020             4.0   \n",
       "\n",
       "  recommended  seat_comfort  cabin_staff_service  food_beverages  \\\n",
       "0          no           1.0                  1.0             1.0   \n",
       "1         yes           3.0                  4.0             4.0   \n",
       "2          no           1.0                  1.0             1.0   \n",
       "3          no           1.0                  1.0             1.0   \n",
       "4          no           2.0                  3.0             3.0   \n",
       "\n",
       "   ground_service  value_for_money     flight_company  airplane_model  \n",
       "0             1.0              1.0  american-airlines             NaN  \n",
       "1             4.0              4.0  american-airlines  Boeing 777-200  \n",
       "2             1.0              1.0  american-airlines             NaN  \n",
       "3             1.0              1.0  american-airlines             NaN  \n",
       "4             1.0              1.0  american-airlines             NaN  "
      ]
     },
     "execution_count": 3,
     "metadata": {},
     "output_type": "execute_result"
    }
   ],
   "source": [
    "skytracks_data.head()"
   ]
  },
  {
   "cell_type": "code",
   "execution_count": 4,
   "metadata": {},
   "outputs": [
    {
     "data": {
      "text/html": [
       "<div>\n",
       "<style scoped>\n",
       "    .dataframe tbody tr th:only-of-type {\n",
       "        vertical-align: middle;\n",
       "    }\n",
       "\n",
       "    .dataframe tbody tr th {\n",
       "        vertical-align: top;\n",
       "    }\n",
       "\n",
       "    .dataframe thead th {\n",
       "        text-align: right;\n",
       "    }\n",
       "</style>\n",
       "<table border=\"1\" class=\"dataframe\">\n",
       "  <thead>\n",
       "    <tr style=\"text-align: right;\">\n",
       "      <th></th>\n",
       "      <th>date</th>\n",
       "      <th>comment</th>\n",
       "      <th>flight_company</th>\n",
       "      <th>airplane_model</th>\n",
       "    </tr>\n",
       "  </thead>\n",
       "  <tbody>\n",
       "    <tr>\n",
       "      <th>17716</th>\n",
       "      <td>2017/02/18</td>\n",
       "      <td>There's only 1 half window for this sest (wind...</td>\n",
       "      <td>Wizzair</td>\n",
       "      <td>Wizz_Air_Airbus_A321</td>\n",
       "    </tr>\n",
       "    <tr>\n",
       "      <th>17717</th>\n",
       "      <td>2016/09/14</td>\n",
       "      <td>None of the seats recline, however, this is a ...</td>\n",
       "      <td>Wizzair</td>\n",
       "      <td>Wizz_Air_Airbus_A321</td>\n",
       "    </tr>\n",
       "    <tr>\n",
       "      <th>17718</th>\n",
       "      <td>2017/08/15</td>\n",
       "      <td>Rather comfy despite it being listed at 17 inc...</td>\n",
       "      <td>Xiamen_Airlines</td>\n",
       "      <td>Xiamen_Airlines_Boeing_787-8</td>\n",
       "    </tr>\n",
       "    <tr>\n",
       "      <th>17719</th>\n",
       "      <td>2019/06/16</td>\n",
       "      <td>I was very satisfied with my flight. The Fligh...</td>\n",
       "      <td>Xiamen_Airlines</td>\n",
       "      <td>Xiamen_Airlines_Boeing_787-9</td>\n",
       "    </tr>\n",
       "    <tr>\n",
       "      <th>17720</th>\n",
       "      <td>2018/08/16</td>\n",
       "      <td>AMS-XIA in May 2018 (codeshare KLM-Xiamenair)....</td>\n",
       "      <td>Xiamen_Airlines</td>\n",
       "      <td>Xiamen_Airlines_Boeing_787-9</td>\n",
       "    </tr>\n",
       "  </tbody>\n",
       "</table>\n",
       "</div>"
      ],
      "text/plain": [
       "             date                                            comment  \\\n",
       "17716  2017/02/18  There's only 1 half window for this sest (wind...   \n",
       "17717  2016/09/14  None of the seats recline, however, this is a ...   \n",
       "17718  2017/08/15  Rather comfy despite it being listed at 17 inc...   \n",
       "17719  2019/06/16  I was very satisfied with my flight. The Fligh...   \n",
       "17720  2018/08/16  AMS-XIA in May 2018 (codeshare KLM-Xiamenair)....   \n",
       "\n",
       "        flight_company                airplane_model  \n",
       "17716          Wizzair          Wizz_Air_Airbus_A321  \n",
       "17717          Wizzair          Wizz_Air_Airbus_A321  \n",
       "17718  Xiamen_Airlines  Xiamen_Airlines_Boeing_787-8  \n",
       "17719  Xiamen_Airlines  Xiamen_Airlines_Boeing_787-9  \n",
       "17720  Xiamen_Airlines  Xiamen_Airlines_Boeing_787-9  "
      ]
     },
     "execution_count": 4,
     "metadata": {},
     "output_type": "execute_result"
    }
   ],
   "source": [
    "seatguru_data.tail()"
   ]
  },
  {
   "cell_type": "code",
   "execution_count": 14,
   "metadata": {},
   "outputs": [],
   "source": [
    "np_fin = skytracks_data['review_comment'].to_numpy()\n",
    "np_fin2 = seatguru_data['comment'].to_numpy()\n",
    "\n",
    "np_company = skytracks_data['flight_company'].to_numpy()\n",
    "np_company2 = seatguru_data['flight_company'].to_numpy()"
   ]
  },
  {
   "cell_type": "code",
   "execution_count": 15,
   "metadata": {},
   "outputs": [],
   "source": [
    "np_company = [string.replace(\"-\", \"_\").lower() for string in np_company]"
   ]
  },
  {
   "cell_type": "code",
   "execution_count": 16,
   "metadata": {},
   "outputs": [],
   "source": [
    "np_company2 = [string.lower() for string in np_company2]"
   ]
  },
  {
   "cell_type": "code",
   "execution_count": 17,
   "metadata": {},
   "outputs": [],
   "source": [
    "data = np.concatenate([np_fin, np_fin2])\n",
    "data_company = np.concatenate([np_company, np_company2])"
   ]
  },
  {
   "cell_type": "code",
   "execution_count": 18,
   "metadata": {},
   "outputs": [],
   "source": [
    "final_df = pd.DataFrame(data, columns = ['review_comment'])"
   ]
  },
  {
   "cell_type": "code",
   "execution_count": 19,
   "metadata": {},
   "outputs": [],
   "source": [
    "final_df['airline'] = data_company"
   ]
  },
  {
   "cell_type": "code",
   "execution_count": 26,
   "metadata": {},
   "outputs": [
    {
     "data": {
      "text/plain": [
       "29956"
      ]
     },
     "execution_count": 26,
     "metadata": {},
     "output_type": "execute_result"
    }
   ],
   "source": [
    "len(data_company)"
   ]
  },
  {
   "cell_type": "code",
   "execution_count": null,
   "metadata": {},
   "outputs": [],
   "source": [
    "len(d)"
   ]
  },
  {
   "cell_type": "code",
   "execution_count": 23,
   "metadata": {},
   "outputs": [
    {
     "data": {
      "text/html": [
       "<div>\n",
       "<style scoped>\n",
       "    .dataframe tbody tr th:only-of-type {\n",
       "        vertical-align: middle;\n",
       "    }\n",
       "\n",
       "    .dataframe tbody tr th {\n",
       "        vertical-align: top;\n",
       "    }\n",
       "\n",
       "    .dataframe thead th {\n",
       "        text-align: right;\n",
       "    }\n",
       "</style>\n",
       "<table border=\"1\" class=\"dataframe\">\n",
       "  <thead>\n",
       "    <tr style=\"text-align: right;\">\n",
       "      <th></th>\n",
       "      <th>review_comment</th>\n",
       "      <th>airline</th>\n",
       "    </tr>\n",
       "  </thead>\n",
       "  <tbody>\n",
       "    <tr>\n",
       "      <th>0</th>\n",
       "      <td>Greensboro to Las Vegas via Charlotte. I wil...</td>\n",
       "      <td>american_airlines</td>\n",
       "    </tr>\n",
       "    <tr>\n",
       "      <th>1</th>\n",
       "      <td>Not Verified |  Tokyo to Dallas. I was dreadin...</td>\n",
       "      <td>american_airlines</td>\n",
       "    </tr>\n",
       "    <tr>\n",
       "      <th>2</th>\n",
       "      <td>Providence to Tucson via Chicago. American A...</td>\n",
       "      <td>american_airlines</td>\n",
       "    </tr>\n",
       "    <tr>\n",
       "      <th>3</th>\n",
       "      <td>Not Verified |  Philadelphia to Boston. Horrib...</td>\n",
       "      <td>american_airlines</td>\n",
       "    </tr>\n",
       "    <tr>\n",
       "      <th>4</th>\n",
       "      <td>Houston to Dallas. I had departed from Ameri...</td>\n",
       "      <td>american_airlines</td>\n",
       "    </tr>\n",
       "  </tbody>\n",
       "</table>\n",
       "</div>"
      ],
      "text/plain": [
       "                                      review_comment            airline\n",
       "0    Greensboro to Las Vegas via Charlotte. I wil...  american_airlines\n",
       "1  Not Verified |  Tokyo to Dallas. I was dreadin...  american_airlines\n",
       "2    Providence to Tucson via Chicago. American A...  american_airlines\n",
       "3  Not Verified |  Philadelphia to Boston. Horrib...  american_airlines\n",
       "4    Houston to Dallas. I had departed from Ameri...  american_airlines"
      ]
     },
     "execution_count": 23,
     "metadata": {},
     "output_type": "execute_result"
    }
   ],
   "source": [
    "final_df.head()"
   ]
  },
  {
   "cell_type": "code",
   "execution_count": 24,
   "metadata": {},
   "outputs": [
    {
     "data": {
      "text/html": [
       "<div>\n",
       "<style scoped>\n",
       "    .dataframe tbody tr th:only-of-type {\n",
       "        vertical-align: middle;\n",
       "    }\n",
       "\n",
       "    .dataframe tbody tr th {\n",
       "        vertical-align: top;\n",
       "    }\n",
       "\n",
       "    .dataframe thead th {\n",
       "        text-align: right;\n",
       "    }\n",
       "</style>\n",
       "<table border=\"1\" class=\"dataframe\">\n",
       "  <thead>\n",
       "    <tr style=\"text-align: right;\">\n",
       "      <th></th>\n",
       "      <th>review_comment</th>\n",
       "      <th>airline</th>\n",
       "    </tr>\n",
       "  </thead>\n",
       "  <tbody>\n",
       "    <tr>\n",
       "      <th>29951</th>\n",
       "      <td>There's only 1 half window for this sest (wind...</td>\n",
       "      <td>wizzair</td>\n",
       "    </tr>\n",
       "    <tr>\n",
       "      <th>29952</th>\n",
       "      <td>None of the seats recline, however, this is a ...</td>\n",
       "      <td>wizzair</td>\n",
       "    </tr>\n",
       "    <tr>\n",
       "      <th>29953</th>\n",
       "      <td>Rather comfy despite it being listed at 17 inc...</td>\n",
       "      <td>xiamen_airlines</td>\n",
       "    </tr>\n",
       "    <tr>\n",
       "      <th>29954</th>\n",
       "      <td>I was very satisfied with my flight. The Fligh...</td>\n",
       "      <td>xiamen_airlines</td>\n",
       "    </tr>\n",
       "    <tr>\n",
       "      <th>29955</th>\n",
       "      <td>AMS-XIA in May 2018 (codeshare KLM-Xiamenair)....</td>\n",
       "      <td>xiamen_airlines</td>\n",
       "    </tr>\n",
       "  </tbody>\n",
       "</table>\n",
       "</div>"
      ],
      "text/plain": [
       "                                          review_comment          airline\n",
       "29951  There's only 1 half window for this sest (wind...          wizzair\n",
       "29952  None of the seats recline, however, this is a ...          wizzair\n",
       "29953  Rather comfy despite it being listed at 17 inc...  xiamen_airlines\n",
       "29954  I was very satisfied with my flight. The Fligh...  xiamen_airlines\n",
       "29955  AMS-XIA in May 2018 (codeshare KLM-Xiamenair)....  xiamen_airlines"
      ]
     },
     "execution_count": 24,
     "metadata": {},
     "output_type": "execute_result"
    }
   ],
   "source": [
    "final_df.tail()"
   ]
  },
  {
   "cell_type": "code",
   "execution_count": null,
   "metadata": {},
   "outputs": [],
   "source": []
  },
  {
   "cell_type": "code",
   "execution_count": 25,
   "metadata": {},
   "outputs": [],
   "source": [
    "final_df.to_csv('./data/final_starting_data.csv') ## this is the final "
   ]
  },
  {
   "cell_type": "code",
   "execution_count": null,
   "metadata": {},
   "outputs": [],
   "source": []
  }
 ],
 "metadata": {
  "kernelspec": {
   "display_name": "Python 3",
   "language": "python",
   "name": "python3"
  },
  "language_info": {
   "codemirror_mode": {
    "name": "ipython",
    "version": 3
   },
   "file_extension": ".py",
   "mimetype": "text/x-python",
   "name": "python",
   "nbconvert_exporter": "python",
   "pygments_lexer": "ipython3",
   "version": "3.8.1"
  }
 },
 "nbformat": 4,
 "nbformat_minor": 4
}
